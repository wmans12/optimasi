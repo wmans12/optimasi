{
  "nbformat": 4,
  "nbformat_minor": 0,
  "metadata": {
    "colab": {
      "name": "heart-disease-lvq.ipynb",
      "provenance": [],
      "collapsed_sections": []
    },
    "kernelspec": {
      "name": "python3",
      "display_name": "Python 3"
    },
    "language_info": {
      "name": "python"
    }
  },
  "cells": [
    {
      "cell_type": "code",
      "execution_count": 9,
      "metadata": {
        "id": "mYwewZ5C4mRC"
      },
      "outputs": [],
      "source": [
        "import numpy as np\n",
        "import pandas as pd"
      ]
    },
    {
      "cell_type": "code",
      "source": [
        "np.set_printoptions(threshold=np.inf)\n",
        "pd.set_option('display.max_columns', None)  \n",
        "pd.set_option('display.expand_frame_repr', False)\n",
        "pd.set_option('max_colwidth', -1)"
      ],
      "metadata": {
        "colab": {
          "base_uri": "https://localhost:8080/"
        },
        "id": "QY2YvamE5olX",
        "outputId": "e214bf1a-a6df-42d3-e38a-61b0be54d3b8"
      },
      "execution_count": 10,
      "outputs": [
        {
          "output_type": "stream",
          "name": "stderr",
          "text": [
            "/usr/local/lib/python3.7/dist-packages/ipykernel_launcher.py:4: FutureWarning: Passing a negative integer is deprecated in version 1.0 and will not be supported in future version. Instead, use None to not limit the column width.\n",
            "  after removing the cwd from sys.path.\n"
          ]
        }
      ]
    },
    {
      "cell_type": "code",
      "source": [
        "#method pelatihan\n",
        "def lvq_train(X, y, a, b, max_ep):\n",
        "    c, train_idx = np.unique(y, True)\n",
        "    W = X[train_idx].astype(np.float64)\n",
        "    train = np.array([e for i, e in enumerate(zip(X, y)) if i not in train_idx])\n",
        "    X = train[:, 0]\n",
        "    y = train[:, 1]\n",
        "    ep = 0\n",
        "    \n",
        "    while ep < max_ep:\n",
        "        for i, x in enumerate(X):\n",
        "            d = [sum((w-x)**2) for w in W]\n",
        "            min = np.argmin(d)\n",
        "            s = 1 if y[i] == c[min] else -1\n",
        "            W[min] += s * a*(x - W[min])\n",
        "        a *= b\n",
        "        ep += 1\n",
        "    return W, c\n",
        "\n",
        "#method uji\n",
        "def lvq_test(x, W):\n",
        "    W, c = W\n",
        "    d = [sum((w-x)**2) for w in W]\n",
        "    return c[np.argmin(d)]"
      ],
      "metadata": {
        "id": "MdVv7RpH5rJR"
      },
      "execution_count": 11,
      "outputs": []
    },
    {
      "cell_type": "code",
      "source": [
        "!wget -O heart.csv https://raw.githubusercontent.com/wmans12/optimasi/main/heart.csv\n",
        "!wget -O datauji.csv https://raw.githubusercontent.com/wmans12/optimasi/main/datauji.csv"
      ],
      "metadata": {
        "colab": {
          "base_uri": "https://localhost:8080/"
        },
        "id": "MywYe81K7D_F",
        "outputId": "fbd5d39f-697f-4a44-aebb-d4342dba1972"
      },
      "execution_count": 12,
      "outputs": [
        {
          "output_type": "stream",
          "name": "stdout",
          "text": [
            "--2022-06-03 09:17:56--  https://raw.githubusercontent.com/wmans12/optimasi/main/heart.csv\n",
            "Resolving raw.githubusercontent.com (raw.githubusercontent.com)... 185.199.108.133, 185.199.109.133, 185.199.110.133, ...\n",
            "Connecting to raw.githubusercontent.com (raw.githubusercontent.com)|185.199.108.133|:443... connected.\n",
            "HTTP request sent, awaiting response... 200 OK\n",
            "Length: 9156 (8.9K) [text/plain]\n",
            "Saving to: ‘heart.csv’\n",
            "\n",
            "\rheart.csv             0%[                    ]       0  --.-KB/s               \rheart.csv           100%[===================>]   8.94K  --.-KB/s    in 0s      \n",
            "\n",
            "2022-06-03 09:17:56 (55.0 MB/s) - ‘heart.csv’ saved [9156/9156]\n",
            "\n",
            "--2022-06-03 09:17:56--  https://raw.githubusercontent.com/wmans12/optimasi/main/datauji.csv\n",
            "Resolving raw.githubusercontent.com (raw.githubusercontent.com)... 185.199.108.133, 185.199.109.133, 185.199.110.133, ...\n",
            "Connecting to raw.githubusercontent.com (raw.githubusercontent.com)|185.199.108.133|:443... connected.\n",
            "HTTP request sent, awaiting response... 200 OK\n",
            "Length: 1957 (1.9K) [text/plain]\n",
            "Saving to: ‘datauji.csv’\n",
            "\n",
            "datauji.csv         100%[===================>]   1.91K  --.-KB/s    in 0s      \n",
            "\n",
            "2022-06-03 09:17:56 (23.9 MB/s) - ‘datauji.csv’ saved [1957/1957]\n",
            "\n"
          ]
        }
      ]
    },
    {
      "cell_type": "code",
      "source": [
        "#normalisasi dataset\n",
        "\n",
        "file = pd.read_csv('heart.csv')\n",
        "dataset = file.iloc[:,:10] \n",
        "label_kelas = file.iloc[:,13] \n",
        "dataset = dataset.apply(pd.to_numeric, errors='coerce')\n",
        "dataset = dataset.fillna(dataset.mean())\n",
        "\n",
        "kls = label_kelas.tolist()\n",
        "data = dataset.values.tolist()\n",
        "\n",
        "Q = np.array(data) #atribut\n",
        "A = np.array(kls) #label kelas\n",
        "\n",
        "#=======================================================\n",
        "#ambil data uji\n",
        "\n",
        "fileUji = pd.read_csv('datauji.csv')\n",
        "dataUji = fileUji.iloc[:,:10] \n",
        "\n",
        "label_kelas_uji = file.iloc[:,13] \n",
        "dataUji = dataUji.apply(pd.to_numeric, errors='coerce')\n",
        "dataUji = dataUji.fillna(dataUji.mean())\n",
        "\n",
        "klsUji = label_kelas_uji.tolist()\n",
        "dataUji = dataUji.values.tolist()\n",
        "\n",
        "Q_Uji = np.array(dataUji)\n",
        "A_Uji = np.array(klsUji)"
      ],
      "metadata": {
        "id": "L4w66Q2r5u7g"
      },
      "execution_count": 13,
      "outputs": []
    },
    {
      "cell_type": "code",
      "source": [
        "#====================== Pengujian Terhadap Jumlah Max Epoch ===================================\n",
        "epoch = [1,2,3,4,5,6,7,8,9,10,12,15,20,25]\n",
        "tingkatAkurasi1 = []\n",
        "for x in epoch :\n",
        "    a = .1\n",
        "    b = .5\n",
        "    w = lvq_train(Q, A, a, b, x)\n",
        "    c = []\n",
        "    betul = 0\n",
        "    for i in range(len(dataUji)):\n",
        "        c.append(lvq_test(Q_Uji[i],w))\n",
        "        if (c[i] == A_Uji[i]):\n",
        "            betul+=1\n",
        "    akurasi = (betul/len(dataUji))*100\n",
        "    tingkatAkurasi1.append(akurasi)\n",
        "\n",
        "import matplotlib.pyplot as plt\n",
        "print('------------------------- Hasil Klasifikasi dengan LVQ : ------------------------------')\n",
        "plt.plot(epoch,tingkatAkurasi1, linestyle='-', marker='o', color='b')\n",
        "plt.xlabel('Jumlah Maksimum Epoch')\n",
        "plt.ylabel('Akurasi (%)')\n",
        "plt.title('Grafik Pengaruh Jumlah Epoch')\n",
        "plt.show()\n",
        "\n",
        "#====================== Pengujian Terhadap Nilai Alpha ===================================\n",
        "learingRate = [.0001,.001,.01,.1,.2,.3,.4,.5,.6,.7,.8,.9,1]\n",
        "tingkatAkurasi2 = []\n",
        "\n",
        "for x in learingRate :\n",
        "    a = x\n",
        "    b = .5\n",
        "    w = lvq_train(Q, A, a, b, 10)\n",
        "    c = []\n",
        "    betul = 0\n",
        "    for i in range(len(dataUji)):\n",
        "        c.append(lvq_test(Q_Uji[i],w))\n",
        "        if (c[i] == A_Uji[i]):\n",
        "            betul+=1\n",
        "    akurasi = (betul/len(dataUji))*100\n",
        "    tingkatAkurasi2.append(akurasi)\n",
        "    a+=a\n",
        "    \n",
        "\n",
        "plt.plot(learingRate,tingkatAkurasi2, linestyle='-', marker='o', color='b')\n",
        "plt.xlabel('Nilai Alpha')\n",
        "plt.ylabel('Akurasi (%)')\n",
        "plt.title('Grafik Pengaruh Nilai Alpha')\n",
        "plt.show()"
      ],
      "metadata": {
        "colab": {
          "base_uri": "https://localhost:8080/",
          "height": 645
        },
        "id": "c_sXWx3G7VQP",
        "outputId": "3cff57cb-4e9a-4e33-8e0b-49dffb2ec87b"
      },
      "execution_count": 14,
      "outputs": [
        {
          "output_type": "stream",
          "name": "stderr",
          "text": [
            "/usr/local/lib/python3.7/dist-packages/ipykernel_launcher.py:5: VisibleDeprecationWarning: Creating an ndarray from ragged nested sequences (which is a list-or-tuple of lists-or-tuples-or ndarrays with different lengths or shapes) is deprecated. If you meant to do this, you must specify 'dtype=object' when creating the ndarray.\n",
            "  \"\"\"\n"
          ]
        },
        {
          "output_type": "stream",
          "name": "stdout",
          "text": [
            "------------------------- Hasil Klasifikasi dengan LVQ : ------------------------------\n"
          ]
        },
        {
          "output_type": "display_data",
          "data": {
            "text/plain": [
              "<Figure size 432x288 with 1 Axes>"
            ],
            "image/png": "[encoded data removed]"
          },
          "metadata": {
            "needs_background": "light"
          }
        },
        {
          "output_type": "display_data",
          "data": {
            "text/plain": [
              "<Figure size 432x288 with 1 Axes>"
            ],
            "image/png": "[encoded data removed]"
          },
          "metadata": {
            "needs_background": "light"
          }
        }
      ]
    },
    {
      "cell_type": "code",
      "source": [
        "#====================== Pengujian Terhadap Jumlah Data Latih ===================================\n",
        "jmlData = [25,50,75,100,125,150,175,200,244]\n",
        "tingkatAkurasi4 = []\n",
        "\n",
        "for x in jmlData :\n",
        "    a = .1\n",
        "    b = .5\n",
        "    w = lvq_train(Q[0:x], A[0:x], a, b, 10)\n",
        "    c = []\n",
        "    betul = 0\n",
        "    for i in range(len(dataUji)):\n",
        "        c.append(lvq_test(Q_Uji[i],w))\n",
        "        if (c[i] == A_Uji[i]):\n",
        "            betul+=1\n",
        "    akurasi = (betul/len(dataUji))*100\n",
        "    tingkatAkurasi4.append(akurasi)\n",
        "    a+=a\n",
        "\n",
        "plt.plot(jmlData,tingkatAkurasi4, linestyle='-', marker='o', color='b')\n",
        "plt.xlabel('Jumlah Data Latih ')\n",
        "plt.ylabel('Akurasi (%)')\n",
        "plt.title('Grafik Pengaruh Jumlah Data Latih')\n",
        "plt.show()"
      ],
      "metadata": {
        "colab": {
          "base_uri": "https://localhost:8080/",
          "height": 350
        },
        "id": "7hNb7h2x7je0",
        "outputId": "b53fd5cf-19e1-43b5-8571-7c65a200db9f"
      },
      "execution_count": 15,
      "outputs": [
        {
          "output_type": "stream",
          "name": "stderr",
          "text": [
            "/usr/local/lib/python3.7/dist-packages/ipykernel_launcher.py:5: VisibleDeprecationWarning: Creating an ndarray from ragged nested sequences (which is a list-or-tuple of lists-or-tuples-or ndarrays with different lengths or shapes) is deprecated. If you meant to do this, you must specify 'dtype=object' when creating the ndarray.\n",
            "  \"\"\"\n"
          ]
        },
        {
          "output_type": "display_data",
          "data": {
            "text/plain": [
              "<Figure size 432x288 with 1 Axes>"
            ],
            "image/png": "[encoded data removed]"
          },
          "metadata": {
            "needs_background": "light"
          }
        }
      ]
    }
  ]
}